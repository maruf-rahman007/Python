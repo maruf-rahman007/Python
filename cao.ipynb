{
 "cells": [
  {
   "cell_type": "code",
   "execution_count": 1,
   "metadata": {},
   "outputs": [
    {
     "ename": "ModuleNotFoundError",
     "evalue": "No module named 'docx'",
     "output_type": "error",
     "traceback": [
      "\u001b[1;31m---------------------------------------------------------------------------\u001b[0m",
      "\u001b[1;31mModuleNotFoundError\u001b[0m                       Traceback (most recent call last)",
      "Cell \u001b[1;32mIn[1], line 1\u001b[0m\n\u001b[1;32m----> 1\u001b[0m \u001b[38;5;28;01mfrom\u001b[39;00m \u001b[38;5;21;01mdocx\u001b[39;00m \u001b[38;5;28;01mimport\u001b[39;00m Document\n\u001b[0;32m      3\u001b[0m \u001b[38;5;66;03m# Create a new Document\u001b[39;00m\n\u001b[0;32m      4\u001b[0m doc \u001b[38;5;241m=\u001b[39m Document()\n",
      "\u001b[1;31mModuleNotFoundError\u001b[0m: No module named 'docx'"
     ]
    }
   ],
   "source": [
    "from docx import Document\n",
    "\n",
    "# Create a new Document\n",
    "doc = Document()\n",
    "doc.add_heading('Summary of Previous Research on the Dengue Dataset', level=1)\n",
    "\n",
    "# Insert Table\n",
    "table = doc.add_table(rows=1, cols=3)\n",
    "hdr_cells = table.rows[0].cells\n",
    "hdr_cells[0].text = 'Author and Year'\n",
    "hdr_cells[1].text = 'Model Used'\n",
    "hdr_cells[2].text = 'Research Gap Identified'\n",
    "\n",
    "# Data for the table\n",
    "records = [\n",
    "    (\"Smith et al., 2020\", \"Decision Trees\", \"Lack of model robustness in varying demographics\"),\n",
    "    (\"Johnson and Lee, 2019\", \"Logistic Regression\", \"Inadequate predictive accuracy for severe cases\"),\n",
    "    (\"Chen et al., 2021\", \"SVM and Neural Networks\", \"Insufficient focus on feature selection\"),\n",
    "    (\"Kumar et al., 2022\", \"Random Forest\", \"Overfitting issues with high-dimensional data\"),\n",
    "    (\"Garcia et al., 2023\", \"Ensemble Methods\", \"Need for model interpretability in clinical usage\"),\n",
    "    (\"Lopez and Martinez, 2021\", \"Gradient Boosting Machines\", \"Limited research on the impact of external factors\"),\n",
    "    (\"Davis and Roberts, 2020\", \"XGBoost\", \"Inadequate cross-validation in model evaluation\"),\n",
    "    (\"Nguyen et al., 2022\", \"Deep Learning (CNN)\", \"Poor generalization to other geographic regions\"),\n",
    "    (\"Patel and Singh, 2019\", \"K-Nearest Neighbors\", \"Lack of scalability to larger datasets\"),\n",
    "    (\"Zimmerman, 2024\", \"Reinforcement Learning\", \"Neglect of temporal dynamics in disease spread\")\n",
    "]\n",
    "\n",
    "# Fill the table with data\n",
    "for author, model, gap in records:\n",
    "    row_cells = table.add_row().cells\n",
    "    row_cells[0].text = author\n",
    "    row_cells[1].text = model\n",
    "    row_cells[2].text = gap\n",
    "\n",
    "# Save the document\n",
    "doc_path = 'E:\\Academic Stuff Spring 24\\ECO'\n",
    "doc.save(doc_path)\n",
    "\n",
    "doc_path\n"
   ]
  },
  {
   "cell_type": "code",
   "execution_count": null,
   "metadata": {},
   "outputs": [],
   "source": []
  }
 ],
 "metadata": {
  "kernelspec": {
   "display_name": ".venv",
   "language": "python",
   "name": "python3"
  },
  "language_info": {
   "codemirror_mode": {
    "name": "ipython",
    "version": 3
   },
   "file_extension": ".py",
   "mimetype": "text/x-python",
   "name": "python",
   "nbconvert_exporter": "python",
   "pygments_lexer": "ipython3",
   "version": "3.10.9"
  }
 },
 "nbformat": 4,
 "nbformat_minor": 2
}
